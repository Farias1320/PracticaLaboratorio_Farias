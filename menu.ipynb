{
 "cells": [
  {
   "cell_type": "code",
   "execution_count": 47,
   "id": "7bf60464",
   "metadata": {},
   "outputs": [],
   "source": [
    "#Definición del menú del restaurante mediante un diccionario\n",
    "menu_restaurante = {\n",
    "    'Arroz con Pollo': {\n",
    "        'precio': 8.50,\n",
    "        'ingredientes': ('arroz', 'pollo', 'guisantes', 'zanahoria', 'pimiento')\n",
    "    },\n",
    "    'Fritada': {\n",
    "        'precio': 9.00,\n",
    "        'ingredientes': ('cerdo', 'maíz', 'mote', 'plátano', 'ensalada')\n",
    "    },\n",
    "    'Encebollado': {\n",
    "        'precio': 7.50,\n",
    "        'ingredientes': ('pescado', 'yuca', 'cebolla', 'cilantro', 'limón')\n",
    "    },\n",
    "    'Encocado de Pescado': {\n",
    "        'precio': 10.00,\n",
    "        'ingredientes': ('pescado', 'leche de coco', 'pimiento', 'cebolla', 'arroz')\n",
    "    },\n",
    "    'Pizza Hawaiana': {\n",
    "        'precio': 13.00,\n",
    "        'ingredientes': ('tomate', 'mozzarella', 'jamón', 'piña')\n",
    "    },\n",
    "    'Ceviche de Camarón': {\n",
    "        'precio': 12.00,\n",
    "        'ingredientes': ('camarón', 'cebolla', 'tomate', 'hierbita', 'limón')\n",
    "    },\n",
    "}  "
   ]
  },
  {
   "cell_type": "code",
   "execution_count": 48,
   "id": "61590f3f",
   "metadata": {},
   "outputs": [
    {
     "name": "stdout",
     "output_type": "stream",
     "text": [
      " MENÚ DEL RESTAURANTE \n",
      "\n",
      "Plato: Arroz con Pollo\n",
      "Precio: $8.50\n",
      "Ingredientes: arroz, pollo, guisantes, zanahoria, pimiento\n",
      "\n",
      "Plato: Fritada\n",
      "Precio: $9.00\n",
      "Ingredientes: cerdo, maíz, mote, plátano, ensalada\n",
      "\n",
      "Plato: Encebollado\n",
      "Precio: $7.50\n",
      "Ingredientes: pescado, yuca, cebolla, cilantro, limón\n",
      "\n",
      "Plato: Encocado de Pescado\n",
      "Precio: $10.00\n",
      "Ingredientes: pescado, leche de coco, pimiento, cebolla, arroz\n",
      "\n",
      "Plato: Pizza Hawaiana\n",
      "Precio: $13.00\n",
      "Ingredientes: tomate, mozzarella, jamón, piña\n",
      "\n",
      "Plato: Ceviche de Camarón\n",
      "Precio: $12.00\n",
      "Ingredientes: camarón, cebolla, tomate, hierbita, limón\n"
     ]
    }
   ],
   "source": [
    "# Definimos la función para visualizar el menú del restaurante\n",
    "def mostrar_menu(menu):\n",
    "    print(\" MENÚ DEL RESTAURANTE \") \n",
    "    for plato, detalles in menu.items(): \n",
    "        precio = detalles['precio']  # Obtenemos el precio del plato\n",
    "        ingredientes = ', '.join(detalles['ingredientes'])  \n",
    "        # Mostramos la información del plato\n",
    "        print(f\"\\nPlato: {plato}\")\n",
    "        print(f\"Precio: ${precio:.2f}\")\n",
    "        print(f\"Ingredientes: {ingredientes}\")\n",
    "\n",
    "# Llamamos a la función para mostrar el menú del restaurante\n",
    "mostrar_menu(menu_restaurante)"
   ]
  },
  {
   "cell_type": "code",
   "execution_count": 49,
   "id": "10b2ebf0",
   "metadata": {},
   "outputs": [
    {
     "name": "stdout",
     "output_type": "stream",
     "text": [
      "Pedido actual: []\n",
      "Total de la cuenta: $ 0.0\n"
     ]
    }
   ],
   "source": [
    "# Lista vacía que almacenara los platos que el cliente va pidiendo\n",
    "pedido_actual = []\n",
    "\n",
    "# Variable establecida para llevar el control del total de la cuenta\n",
    "# Esta variable se inicializa en 0.0\n",
    "total_de_la_cuenta = 0.0\n",
    "\n",
    "# Muestra el como inicia el pedido\n",
    "print(\"Pedido actual:\", pedido_actual)\n",
    "print(\"Total de la cuenta: $\", total_de_la_cuenta)"
   ]
  },
  {
   "cell_type": "code",
   "execution_count": 50,
   "id": "96ac485a",
   "metadata": {},
   "outputs": [
    {
     "name": "stdout",
     "output_type": "stream",
     "text": [
      "'Fritada' añadido al pedido\n",
      "'Encebollado' añadido al pedido\n"
     ]
    }
   ],
   "source": [
    "# Bucle para recibir el pedido\n",
    "while True:\n",
    "    # Ingreso del plato deseado\n",
    "    plato = input(\"Ingresa tu plato favorito o 'fin' para terminar: \").strip().lower()\n",
    "    \n",
    "    if plato == 'fin':\n",
    "        break  # Salimos del bucle\n",
    "\n",
    "    # Se recorren las claves del menú\n",
    "    for clave in menu_restaurante:\n",
    "        if plato == clave.lower():\n",
    "            pedido_actual.append(clave)  # Añadimos el plato con el nombre original\n",
    "            total_de_la_cuenta += menu_restaurante[clave]['precio']\n",
    "            print(f\"'{clave}' añadido al pedido\")\n",
    "            break\n",
    "    else:\n",
    "        print(\"Lo sentimos, no se encuentra disponible.\")"
   ]
  },
  {
   "cell_type": "code",
   "execution_count": 51,
   "id": "e95c43cf",
   "metadata": {},
   "outputs": [
    {
     "name": "stdout",
     "output_type": "stream",
     "text": [
      "        RESUMEN DE TU PEDIDO     \n",
      " Platos seleccionados:\n",
      "   1. Fritada\n",
      "   2. Encebollado\n",
      "\n",
      "TOTAL A PAGAR: $16.50\n",
      "¡Gracias por tu pedido! \n"
     ]
    }
   ],
   "source": [
    "# Al finalizar el pedido, mostramos el resumen\n",
    "print(\"        RESUMEN DE TU PEDIDO     \")\n",
    "\n",
    "\n",
    "if pedido_actual:\n",
    "    print(\" Platos seleccionados:\")\n",
    "    for i, plato in enumerate(pedido_actual, 1):\n",
    "        print(f\"   {i}. {plato}\")\n",
    "    print(\"\\nTOTAL A PAGAR: ${:.2f}\".format(total_de_la_cuenta))\n",
    "    print(\"¡Gracias por tu pedido! \")\n",
    "else:\n",
    "    print(\"No se ha pedido ningún plato. ¡Te esperamos pronto! \")"
   ]
  },
  {
   "cell_type": "code",
   "execution_count": 52,
   "id": "e02dae63",
   "metadata": {},
   "outputs": [
    {
     "name": "stdout",
     "output_type": "stream",
     "text": [
      "\n",
      "--- Menú con descuento en Fritada ---\n",
      " MENÚ DEL RESTAURANTE \n",
      "\n",
      "Plato: Arroz con Pollo\n",
      "Precio: $8.50\n",
      "Ingredientes: arroz, pollo, guisantes, zanahoria, pimiento\n",
      "\n",
      "Plato: Fritada\n",
      "Precio: $8.10\n",
      "Ingredientes: cerdo, maíz, mote, plátano, ensalada\n",
      "\n",
      "Plato: Encebollado\n",
      "Precio: $7.50\n",
      "Ingredientes: pescado, yuca, cebolla, cilantro, limón\n",
      "\n",
      "Plato: Encocado de Pescado\n",
      "Precio: $10.00\n",
      "Ingredientes: pescado, leche de coco, pimiento, cebolla, arroz\n",
      "\n",
      "Plato: Pizza Hawaiana\n",
      "Precio: $13.00\n",
      "Ingredientes: tomate, mozzarella, jamón, piña\n",
      "\n",
      "Plato: Ceviche de Camarón\n",
      "Precio: $12.00\n",
      "Ingredientes: camarón, cebolla, tomate, hierbita, limón\n"
     ]
    }
   ],
   "source": [
    "# Aplicar un 10% de descuento a la Fritada\n",
    "precio_original = menu_restaurante['Fritada']['precio']\n",
    "menu_restaurante['Fritada']['precio'] = precio_original * 0.9\n",
    "\n",
    "print(\"\\n--- Menú con descuento en Fritada ---\")\n",
    "mostrar_menu(menu_restaurante)"
   ]
  },
  {
   "cell_type": "code",
   "execution_count": 53,
   "id": "df9775d2",
   "metadata": {},
   "outputs": [
    {
     "name": "stdout",
     "output_type": "stream",
     "text": [
      "\n",
      "--- Menú con el Plato del Día ---\n",
      " MENÚ DEL RESTAURANTE \n",
      "\n",
      "Plato: Arroz con Pollo\n",
      "Precio: $8.50\n",
      "Ingredientes: arroz, pollo, guisantes, zanahoria, pimiento\n",
      "\n",
      "Plato: Fritada\n",
      "Precio: $8.10\n",
      "Ingredientes: cerdo, maíz, mote, plátano, ensalada\n",
      "\n",
      "Plato: Encebollado\n",
      "Precio: $7.50\n",
      "Ingredientes: pescado, yuca, cebolla, cilantro, limón\n",
      "\n",
      "Plato: Encocado de Pescado\n",
      "Precio: $10.00\n",
      "Ingredientes: pescado, leche de coco, pimiento, cebolla, arroz\n",
      "\n",
      "Plato: Pizza Hawaiana\n",
      "Precio: $13.00\n",
      "Ingredientes: tomate, mozzarella, jamón, piña\n",
      "\n",
      "Plato: Ceviche de Camarón\n",
      "Precio: $12.00\n",
      "Ingredientes: camarón, cebolla, tomate, hierbita, limón\n",
      "\n",
      "Plato: Plato del Día\n",
      "Precio: $11.50\n",
      "Ingredientes: pollo, salsa especial, papas, ensalada\n"
     ]
    }
   ],
   "source": [
    "# Se añade un plato de manera temporal: \"Plato del Día\"\n",
    "menu_restaurante[\"Plato del Día\"] = {\n",
    "    'precio': 11.50,\n",
    "    'ingredientes': ('pollo', 'salsa especial', 'papas', 'ensalada')\n",
    "}\n",
    "\n",
    "print(\"\\n--- Menú con el Plato del Día ---\")\n",
    "mostrar_menu(menu_restaurante)"
   ]
  },
  {
   "cell_type": "code",
   "execution_count": 54,
   "id": "1f1a34a3",
   "metadata": {},
   "outputs": [],
   "source": [
    "# Intento de modificar un ingrediente dentro de la tupla de ingredientes de un plato\n",
    "# Esto generará un TypeError porque las tuplas son inmutables (no se pueden cambiar sus elementos)\n",
    "\n",
    "#menu_restaurante['Fritada']['ingredientes'][0] = 'pollo'  #<-- Efectivamente, esto causaría un error, porque \n",
    "# ejecute y se puso loco \n",
    "\n",
    "# Explicación:\n",
    "# Las tuplas en Python son inmutables, lo que significa que no se pueden modificar después de ser creadas.\n",
    "# Por eso, intentar cambiar un elemento de la tupla da un TypeError."
   ]
  },
  {
   "cell_type": "code",
   "execution_count": 55,
   "id": "700f712e",
   "metadata": {},
   "outputs": [],
   "source": [
    "# Intento de acceder a un índice fuera de rango en la lista pedido_actual\n",
    "#pedido_actual = ['Arroz con Pollo', 'Fritada', 'Encebollado']\n",
    "\n",
    "#print(pedido_actual[3])  # <-- Ejecuta esta línea para ver el IndexError\n",
    "\n",
    "# Explicación:\n",
    "# El error ocurre porque la lista pedido_actual solo tiene 3 elementos.\n",
    "# Al intentar acceder al índice 3, que no existe, Python muestra un IndexError."
   ]
  }
 ],
 "metadata": {
  "kernelspec": {
   "display_name": "Python 3",
   "language": "python",
   "name": "python3"
  },
  "language_info": {
   "codemirror_mode": {
    "name": "ipython",
    "version": 3
   },
   "file_extension": ".py",
   "mimetype": "text/x-python",
   "name": "python",
   "nbconvert_exporter": "python",
   "pygments_lexer": "ipython3",
   "version": "3.10.11"
  }
 },
 "nbformat": 4,
 "nbformat_minor": 5
}
